{
 "cells": [
  {
   "cell_type": "markdown",
   "metadata": {},
   "source": [
    "# Set up enviroments for deep learning of Geoscience"
   ]
  },
  {
   "cell_type": "markdown",
   "metadata": {},
   "source": [
    "## 1.anaconda\n",
    "###  1.1 install anaconda\n",
    "- bash Anaconda\\*\\*\\*\\*.sh\n",
    "- add path into .bashrc\n",
    "  - export PATH=~/anaconda2/bin/python: \\$PATH\n",
    "  \n",
    "### 2. set jupyter:  \n",
    " - jupyter notebook --generate-config \n",
    " - vim ~/.jupyter/jupyter_notebook_config.py\n",
    " - set c.NotebookApp.ip = '127.0.0.1' \n",
    " \n",
    "### 3. map port\n",
    " - in the local machine: ssh -N -f -L localhost:8888(local port):localhost:8889(server port) username@serverip"
   ]
  },
  {
   "cell_type": "markdown",
   "metadata": {},
   "source": [
    "## 2. openblas\n",
    " - make -j\\$(nproc)\n",
    " - make install --prefix=...."
   ]
  },
  {
   "cell_type": "markdown",
   "metadata": {},
   "source": [
    "## 3. opencv\n",
    " - copy opencv_install.sh to the root directory of the source code of opencv\n",
    " - bash opencv_install.sh\n",
    " - export LD_LIBRARY_PATH=...:$LD_LIBRARY_PATH"
   ]
  },
  {
   "cell_type": "markdown",
   "metadata": {},
   "source": [
    "## 4. gdal\n",
    " - copy gdal_install.sh to the root directory of the source code of gdal\n",
    " - bash gdal_install.sh\n",
    " - export LD_LIBRARY_PATH=.....\\$LD_LIBRARY_PATH"
   ]
  },
  {
   "cell_type": "markdown",
   "metadata": {},
   "source": [
    "## 5. Compile mxnet\n",
    " - copy config.mk to the root directory of source code of mxnet\n",
    " - make -j\\$(nproc)\n",
    " - cd python\n",
    " - python setup.py install"
   ]
  }
 ],
 "metadata": {
  "kernelspec": {
   "display_name": "Python 2",
   "language": "python",
   "name": "python2"
  },
  "language_info": {
   "codemirror_mode": {
    "name": "ipython",
    "version": 2
   },
   "file_extension": ".py",
   "mimetype": "text/x-python",
   "name": "python",
   "nbconvert_exporter": "python",
   "pygments_lexer": "ipython2",
   "version": "2.7.14"
  }
 },
 "nbformat": 4,
 "nbformat_minor": 2
}
